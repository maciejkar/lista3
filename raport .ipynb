{
 "cells": [
  {
   "cell_type": "markdown",
   "id": "average-mention",
   "metadata": {},
   "source": [
    "## Lista 3\n",
    "## Maciej Karczewski\n",
    "## zad 1"
   ]
  },
  {
   "cell_type": "markdown",
   "id": "smart-application",
   "metadata": {},
   "source": [
    " Jeżeli prawdopodobieństwo pojedynczego sukcesu wynosi p, to prawdopodobieństwo osiągnięcia co najwyżej k sukcesów wyrazi się wzorem:\n",
    "$$ P(n,k) = \\sum_{i=0}^{k}\\binom{n}{i} \\cdot p^{i} \\cdot (1-p)^{n-i} $$\n",
    "Napisz funkcję wyliczającą to prawdopodobieństwo. Nie może ona wymagać więcej niż ak + b *log(n) + c mnożeń gdzie a,b,c są stałymi."
   ]
  },
  {
   "cell_type": "markdown",
   "id": "academic-frame",
   "metadata": {},
   "source": [
    "- Na początku przekształćmy troche wzór "
   ]
  },
  {
   "cell_type": "markdown",
   "id": "satisfied-cargo",
   "metadata": {},
   "source": [
    "$$ \\sum_{i=0}^{k}\\binom{n}{i} \\cdot p^{i} \\cdot (1-p)^{n-i} = \\sum_{i=0}^{k}\\binom{n}{i} \\cdot (1-p)^{n} \\cdot \\left( \\frac{p}{1-p} \\right)^{i} =  (1-p)^{n} \\cdot \\sum_{i=0}^{k}\\binom{n}{i}  \\cdot \\left( \\frac{p}{1-p} \\right)^{i} $$"
   ]
  },
  {
   "cell_type": "markdown",
   "id": "identical-combine",
   "metadata": {},
   "source": [
    "- Teraz znajdziemy zależność miedzy i-tym wyrazem a i+1 wyrazem "
   ]
  },
  {
   "cell_type": "markdown",
   "id": "retained-lambda",
   "metadata": {},
   "source": [
    "$$ q = \\frac{\\binom{n}{i+1} \\cdot p^{i+1} \\cdot (1-p)^{-i-1}}{\\binom{n}{i} \\cdot p^{i} \\cdot (1-p)^{-i}} = \\frac{(n-i)p}{(i+1)(1-p)} = \\frac{n-i}{i+1} \\cdot C(p)$$ gdzie $$ C(p) = \\frac{p}{1-p}$$"
   ]
  },
  {
   "cell_type": "markdown",
   "id": "seventh-morning",
   "metadata": {},
   "source": [
    "- Załważmy że (1-p) możemy podnieś do n-tej potęgi w 3*log(n) mnożeniach używając algorytmu szybkiego potęgowania\n",
    "``` \n",
    "def to_n_pow(base, power, count_mult):\n",
    "    result = 1\n",
    "    while power:\n",
    "        power, check = divmod(power, 2)\n",
    "        count_mult += 1\n",
    "        if check == 0:\n",
    "            base *= base\n",
    "            count_mult += 1\n",
    "        else:\n",
    "            result *= base\n",
    "            base *= base\n",
    "            count_mult += 2\n",
    "    return result , count_mult\n",
    "```"
   ]
  },
  {
   "cell_type": "markdown",
   "id": "complete-philippines",
   "metadata": {},
   "source": [
    "- Każdy wyraz sumy możemy obliczyć używając 3 mnożeń , więc sume obliczymy w 3k mnożeń także potrzebujemy jednorazowo na początku wykonać dodatkowe mnożenie\n",
    " ```\n",
    "for i in range(0,k):\n",
    "      single_probabilitis[i+1] = single_probabilitis[i] * factor_p * (n-i)/(i+1)\n",
    "      count_mult += 3\n",
    "```"
   ]
  },
  {
   "cell_type": "markdown",
   "id": "studied-poland",
   "metadata": {},
   "source": [
    "- Wynik sumy musimy przemnożyć przez wcześniej obliczoną stałą (1-p)^n więc ilość potrzebnych mnożeń nie przekroczy $$ 3k + 3\\log_{2}{n} + 2 $$"
   ]
  },
  {
   "cell_type": "markdown",
   "id": "iraqi-delhi",
   "metadata": {},
   "source": [
    "- Ale możemy wykorzystać zdarzenie przeciwne dla k większego niż połowa zdarzeń wtedy ilość potrzebnych mnożeń wynosi $$ 3(n-k) + 3\\log_{2}{n} + 2 $$"
   ]
  },
  {
   "cell_type": "code",
   "execution_count": 16,
   "id": "useful-treaty",
   "metadata": {},
   "outputs": [],
   "source": [
    "def probability(n, k, p):\n",
    "    \"\"\"\n",
    "    Fuction count propability of less or k sucess in n attempts\n",
    "    @pam n: (int) number of attempts\n",
    "    @pam k: (int) number of max success in n attempts\n",
    "    @pam p: (float) propability of single sucess\n",
    "    @return prob: (float) propability of less or k sucess in n attempts\n",
    "    @return count_mult: (int) number how many multiplicatio was done\n",
    "    \"\"\"\n",
    "\n",
    "    # w ciele funkcji umieść swój kod realizujący cel zadania;\n",
    "    # argument 'n' niech będzie liczbą prób;\n",
    "    # argument 'k' niech będzie maksymalną liczbą sukcesów;\n",
    "    # argument 'p' niech będzie prawdpodobieństwem sukcesu w pojedynczej próbie;\n",
    "    # w zmiennej 'prob' zwróć oczekiwane prawdopodobieństwo;\n",
    "    # w zmiennej 'count_mult' zwróć liczbę mnożeń, jaką wykonał Twój program;\n",
    "    # jeśli potrzebujesz, możesz dopisać również inne funkcje (pomocnicze), \n",
    "    # jednak główny cel zadania musi być realizowany w tej funkcji;\n",
    "\n",
    "    def to_n_pow(base, power, count_mult):\n",
    "        result = 1\n",
    "        while power:\n",
    "            power, check = divmod(power, 2)\n",
    "            count_mult += 1\n",
    "            if check == 0:\n",
    "                base *= base\n",
    "                count_mult += 1\n",
    "            else:\n",
    "                result *= base\n",
    "                base *= base\n",
    "                count_mult += 2\n",
    "        return result , count_mult\n",
    "\n",
    "    prob = 0\n",
    "    count_mult = 0\n",
    "    if k == n:\n",
    "        return 1, 0\n",
    "    elif k > n // 2: # in this case we use opposite event\n",
    "        m = n-k \n",
    "        factor_p = (1-p)/p\n",
    "        count_mult += 1\n",
    "        single_probabilitis = [1 for i in range(0,m)]\n",
    "        single_probabilitis[0] , count_mult = to_n_pow(p, n, count_mult)\n",
    "        for i in range(0,m-1):\n",
    "            single_probabilitis[i+1] = single_probabilitis[i] * factor_p * (n-i)/(i+1)\n",
    "            count_mult += 3\n",
    "            prob = 1 - sum(single_probabilitis)\n",
    "    else:\n",
    "        m = k\n",
    "        factor_p = p/(1-p)\n",
    "        count_mult += 1\n",
    "        single_probabilitis = [1 for i in range(0,m+1)]\n",
    "        single_probabilitis[0], count_mult = to_n_pow((1-p), n, count_mult) \n",
    "        for i in range(0,m):\n",
    "            single_probabilitis[i+1] = single_probabilitis[i] * factor_p * (n-i)/(i+1)\n",
    "            count_mult += 3\n",
    "            prob = sum(single_probabilitis)\n",
    "\n",
    "\n",
    "    return (prob, count_mult)\n"
   ]
  },
  {
   "cell_type": "code",
   "execution_count": 17,
   "id": "emerging-thanks",
   "metadata": {},
   "outputs": [
    {
     "name": "stdout",
     "output_type": "stream",
     "text": [
      "(0.35399037706738207, 106)\n",
      "(0.5531684257419579, 58)\n"
     ]
    }
   ],
   "source": [
    "print(probability(64,30,0.5))\n",
    "print(probability(50,35,0.7))"
   ]
  },
  {
   "cell_type": "markdown",
   "id": "filled-convergence",
   "metadata": {},
   "source": [
    "## zad 2\n"
   ]
  },
  {
   "cell_type": "markdown",
   "id": "incomplete-vienna",
   "metadata": {},
   "source": [
    "Ile potrzeba mnożeń, aby wyliczyć wartość wielomianu stopnia n o\n",
    "współczynnikach zawartych w liście a. Napisz funkcję realizującą Twój\n",
    "algorytm.\n"
   ]
  },
  {
   "cell_type": "markdown",
   "id": "racial-glory",
   "metadata": {},
   "source": [
    "- Jeżeli beziemy klasycznie podstawiać pod wzór zaczynając od zerowej potęgi kończąc na n-tej to wykonamy 2(n-1) mnożeń"
   ]
  },
  {
   "cell_type": "code",
   "execution_count": 3,
   "id": "involved-briefs",
   "metadata": {},
   "outputs": [],
   "source": [
    "def ordinary_polynomial_value_calc(coeff, arg):\n",
    "    \"\"\"Function calculate w(x) where w is polynomial\n",
    "    @pam coeff : (list) list of coefficient of polynomial (first is a_0)\n",
    "    @pam arg: (float) argument of function\n",
    "    @return value: (float) value of this polynomial\n",
    "    @return count_mult: (int) number how many multiplicatio was done\n",
    "    @return count_add: (int) number how many adds was done\n",
    "    \"\"\"\n",
    "    # w ciele tej funkcji zawrzyj kod wyliczający wartość wielomianu w tradycyjny sposób;\n",
    "    # argument 'coeff' niech będzie listą współczynników wielomianu w kolejności od stopnia zerowego (wyrazu wolego) wzwyż;\n",
    "    # argument 'arg' niech będzie punktem, w którym chcemy policzyć wartość wielomianu;\n",
    "    # w zmiennej 'count_mult' zwróć liczbę mnożeń, jakie zostału wykonane do uzyskania tego wyniku;\n",
    "    # w zmiennej 'count_add' zwróć liczbę dodawań, jakie zostału wykonane do uzyskania tego wyniku;\n",
    "    value = coeff[0]\n",
    "    before = arg\n",
    "    count_mult = 0\n",
    "    count_add = 0\n",
    "    for coef in coeff[1:]:\n",
    "        value += coef * before\n",
    "        before *= arg\n",
    "        count_add += 1\n",
    "        count_mult += 2\n",
    "    return value, count_mult, count_add\n"
   ]
  },
  {
   "cell_type": "code",
   "execution_count": 4,
   "id": "educated-chosen",
   "metadata": {},
   "outputs": [
    {
     "name": "stdout",
     "output_type": "stream",
     "text": [
      "(0, 8, 4)\n",
      "(74, 8, 4)\n"
     ]
    }
   ],
   "source": [
    "print(ordinary_polynomial_value_calc([0,1,4,-5,6], 0))\n",
    "print(ordinary_polynomial_value_calc([0,1,4,-5,6], 2))"
   ]
  },
  {
   "cell_type": "markdown",
   "id": "surprising-sender",
   "metadata": {},
   "source": [
    "- Możemy obliczyć wartość funkcji z schematu hornera , wtedy wykonamy n-1 mnożeń "
   ]
  },
  {
   "cell_type": "code",
   "execution_count": 5,
   "id": "middle-prophet",
   "metadata": {},
   "outputs": [],
   "source": [
    "def smart_polynomial_value_calc(coeff, arg):\n",
    "    \"\"\"Function calculate w(x) where w is polynomial using horner scheme\n",
    "    @pam coeff : (list) list of coefficient of polynomial (first is a_0)\n",
    "    @pam arg: (float) argument of function\n",
    "    @return value: (float) value of this polynomial\n",
    "    @return count_mult: (int) number how many multiplicatio was done\n",
    "    @return count_add: (int) number how many adds was done\n",
    "    \"\"\"\n",
    "    # w ciele tej funkcji zawrzyj kod wyliczający wartość wielomianu w sposób maksymalnie ograniczający liczbę wykonywanych mnożeń;\n",
    "    # argument 'coeff' niech będzie listą współczynników wielomianu w kolejności od stopnia zerowego (wyrazu wolego) wzwyż;\n",
    "    # argument 'arg' niech będzie punktem, w którym chcemy policzyć wartość wielomianu;\n",
    "    # w zmiennej 'count_mult' zwróć liczbę mnożeń, jakie zostału wykonane do uzyskania tego wyniku;\n",
    "    # w zmiennej 'count_add' zwróć liczbę dodawań, jakie zostału wykonane do uzyskania tego wyniku;\n",
    "\n",
    "    value = coeff[-1] \n",
    "    count_mult = 0\n",
    "    count_add = 1\n",
    "    for n in range( len(coeff) - 2, -1, -1):\n",
    "        value *= arg\n",
    "        value += coeff[n] \n",
    "        count_add += 1\n",
    "        count_mult += 1\n",
    "    return value, count_mult, count_add\n"
   ]
  },
  {
   "cell_type": "code",
   "execution_count": 6,
   "id": "differential-wisdom",
   "metadata": {},
   "outputs": [
    {
     "name": "stdout",
     "output_type": "stream",
     "text": [
      "(0, 4, 5)\n",
      "(74, 4, 5)\n"
     ]
    }
   ],
   "source": [
    "print(smart_polynomial_value_calc([0,1,4,-5,6], 0))\n",
    "print(smart_polynomial_value_calc([0,1,4,-5,6], 2))"
   ]
  },
  {
   "cell_type": "markdown",
   "id": "appreciated-agent",
   "metadata": {},
   "source": [
    "## zad 3\n",
    "Napisz program, który policzy, ile razy występuje każdy znak w pliku tekstowym podanym jako argument wywołania. Nie możesz przy tym\n",
    "używać wyrażenia warunkowego if."
   ]
  },
  {
   "cell_type": "markdown",
   "id": "reasonable-scoop",
   "metadata": {},
   "source": [
    "- W zadaniu tworzę słownik z tekstu a następnie obliczam różnice zbiorów ze zbiorem zawierającym spacje, enter, tabulator a następnie iteróje przez zbiór i metodą count liczę ile razy ten znak pojawia się w tekście i dodaje kulcz którym jest znak a wartość to liczba powtórzeń "
   ]
  },
  {
   "cell_type": "code",
   "execution_count": 8,
   "id": "demonstrated-catalyst",
   "metadata": {},
   "outputs": [],
   "source": [
    "def counting_chars_without_ifs(filename):\n",
    "    \"\"\"Fuction count numers of chars in given filename\n",
    "    @pam filename: (str) path to file with text\n",
    "    @return char_count: (dict) dictionary with numbers of chars in text\"\"\"\n",
    "    with open(filename, 'r') as file_ref:\n",
    "        text = file_ref.read()\n",
    "        words = text.lower()\n",
    "        char_count = {}\n",
    "        letters = set(words) - set(' \\n \\t')\n",
    "    for letter in letters:\n",
    "        char_count[letter] = words.count(letter)\n",
    "\n",
    "\n",
    "    # uzupełnij ciało tej funkcji kodem realizującym cel zadania;\n",
    "    # w zmiennej 'char_count' zwróć słownik zawierający wszystkie znaki tekstu \n",
    "    # jako klucze i ich liczebnoć jako wartości np. {'a': 6, 'b': 2 ...};\n",
    "    # jeli potrzebujesz, możesz dopisać również inne funkcje (pomocnicze), \n",
    "    # jednak główny cel zadania musi być realizowany w tej funkcji;\n",
    "    return char_count"
   ]
  },
  {
   "cell_type": "code",
   "execution_count": null,
   "id": "ultimate-sharing",
   "metadata": {},
   "outputs": [],
   "source": []
  }
 ],
 "metadata": {
  "kernelspec": {
   "display_name": "Python 3",
   "language": "python",
   "name": "python3"
  },
  "language_info": {
   "codemirror_mode": {
    "name": "ipython",
    "version": 3
   },
   "file_extension": ".py",
   "mimetype": "text/x-python",
   "name": "python",
   "nbconvert_exporter": "python",
   "pygments_lexer": "ipython3",
   "version": "3.7.9"
  }
 },
 "nbformat": 4,
 "nbformat_minor": 5
}
